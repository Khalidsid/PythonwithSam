{
 "cells": [
  {
   "cell_type": "markdown",
   "metadata": {},
   "source": [
    "write a python script to play a game. This project will help you to better work with python. Use the  python3 no special version, you will choose yourself.\n",
    "The first function will get the number of attempts [1-25]. The value inputed will be only integer and between 1 and 25.\n",
    "\n",
    "We will work together to finalize this project and at the end you will see that it will help you to better understand:\n",
    "\n",
    "Random\n",
    "Variables\n",
    "Boolean\n",
    "Input and Output\n",
    "Integer\n",
    "Char\n",
    "String\n",
    "Length\n",
    "Print"
   ]
  },
  {
   "cell_type": "code",
   "execution_count": 3,
   "metadata": {},
   "outputs": [],
   "source": [
    "def attemps(x):\n",
    "    if x in range(26):\n",
    "        return \"No of attempts: \"+str(x)"
   ]
  },
  {
   "cell_type": "code",
   "execution_count": null,
   "metadata": {},
   "outputs": [],
   "source": []
  }
 ],
 "metadata": {
  "kernelspec": {
   "display_name": "Python 3",
   "language": "python",
   "name": "python3"
  },
  "language_info": {
   "codemirror_mode": {
    "name": "ipython",
    "version": 3
   },
   "file_extension": ".py",
   "mimetype": "text/x-python",
   "name": "python",
   "nbconvert_exporter": "python",
   "pygments_lexer": "ipython3",
   "version": "3.7.4"
  }
 },
 "nbformat": 4,
 "nbformat_minor": 4
}
